{
 "cells": [
  {
   "cell_type": "code",
   "execution_count": 3,
   "id": "dramatic-working",
   "metadata": {},
   "outputs": [],
   "source": [
    "import nbdev"
   ]
  },
  {
   "cell_type": "code",
   "execution_count": 4,
   "id": "boolean-monitoring",
   "metadata": {},
   "outputs": [
    {
     "name": "stdout",
     "output_type": "stream",
     "text": [
      "\u001b[1;31mType:\u001b[0m        module\n",
      "\u001b[1;31mString form:\u001b[0m <module 'nbdev' from 'c:\\\\Users\\\\lgrose\\\\.conda\\\\envs\\\\loopdev\\\\lib\\\\site-packages\\\\nbdev\\\\__init__.py'>\n",
      "\u001b[1;31mFile:\u001b[0m        c:\\users\\lgrose\\.conda\\envs\\loopdev\\lib\\site-packages\\nbdev\\__init__.py\n",
      "\u001b[1;31mDocstring:\u001b[0m   <no docstring>\n"
     ]
    }
   ],
   "source": [
    "nbdev?"
   ]
  },
  {
   "cell_type": "code",
   "execution_count": 2,
   "id": "monthly-meeting",
   "metadata": {},
   "outputs": [],
   "source": [
    "from nbdev.export2html import nbdev_nb2md"
   ]
  },
  {
   "cell_type": "code",
   "execution_count": 3,
   "id": "earned-captain",
   "metadata": {},
   "outputs": [],
   "source": [
    "nbdev_nb2md('2022-04-23-Warburton.ipynb',dest='../_posts/',img_path='../assets/_images/',jekyll=True)"
   ]
  },
  {
   "cell_type": "code",
   "execution_count": null,
   "id": "comprehensive-textbook",
   "metadata": {},
   "outputs": [],
   "source": []
  }
 ],
 "metadata": {
  "interpreter": {
   "hash": "c964b962531fb3814073005f3f38352fa824c2c9574fe536fd02e4ab0c2eb9e0"
  },
  "kernelspec": {
   "display_name": "Python 3.7.9 ('loopdev')",
   "language": "python",
   "name": "python3"
  },
  "language_info": {
   "codemirror_mode": {
    "name": "ipython",
    "version": 3
   },
   "file_extension": ".py",
   "mimetype": "text/x-python",
   "name": "python",
   "nbconvert_exporter": "python",
   "pygments_lexer": "ipython3",
   "version": "3.7.9"
  }
 },
 "nbformat": 4,
 "nbformat_minor": 5
}
