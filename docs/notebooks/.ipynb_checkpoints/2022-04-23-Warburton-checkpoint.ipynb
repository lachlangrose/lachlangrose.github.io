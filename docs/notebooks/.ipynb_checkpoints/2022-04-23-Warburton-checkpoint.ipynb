{
 "cells": [
  {
   "cell_type": "markdown",
   "id": "dutch-shannon",
   "metadata": {},
   "source": [
    "# Understanding community response to Warburton MTB project\n",
    "> \n",
    "- layout: posts\n",
    "- date:   2021-10-21 20:39:54 +1000\n",
    "- categories: programming\n",
    "- classes: wide\n",
    "- author: Lachlan Grose\n",
    "- author_profile: true\n",
    "- excerpt_separator: <!--more--> "
   ]
  },
  {
   "cell_type": "markdown",
   "id": "therapeutic-cartoon",
   "metadata": {},
   "source": [
    "The Mountain bike park planned for Warburton has been extremely controversial due to environmental concerns. An Environment Effects Statement including a community feedback was conducted in late 2021 and the community feedback was released in early 2022. There were over 2500 submissions from the general public, including mountain bike riders and environmentalists. I decided to analyse the text in every submission with the aim of classifying it as positive or negative. To do this the ess results needed to be downloaded from the repository holding them, the pdf files need to be converted into plain text and the results analysed for the sentiment. All of this work will be performed with Python.\n"
   ]
  },
  {
   "cell_type": "markdown",
   "id": "acute-black",
   "metadata": {},
   "source": [
    "## Downloading and reading PDF files\n",
    "\n",
    "The community submissions for the ESS can be found [here](!https://engage.vic.gov.au/project/warburton-iac/page/warburton-IAC-submissions). Taking a look at the individual files we can see that each file containing the submissions have the same structure https://engage.vic.gov.au/download/document/23728 where the number 23728 increased for each submission file.\n",
    "Looking at the submissions the structure of the submissions are similar layout.\n",
    "\n",
    "![image.png](./img/warburton_ess_example_submission.png)\n",
    "\n",
    "To read a PDF using Python there are numerous libraries available, I prefer using pdfplumber because it has a very flexible structure for extracting tables and text from PDFs. To read a PDF using pdfplumber we just need to use the following code:\n"
   ]
  },
  {
   "cell_type": "code",
   "execution_count": null,
   "id": "flying-albania",
   "metadata": {},
   "outputs": [],
   "source": []
  },
  {
   "cell_type": "code",
   "execution_count": 19,
   "id": "structured-extraction",
   "metadata": {},
   "outputs": [
    {
     "name": "stdout",
     "output_type": "stream",
     "text": [
      "Submission Cover Sheet 1 Warburton Mountain Bike Destination Inquiry and Advisory  Committee  Request to be heard?: No Full Name: Andrew Gard Organisation: Affected property: Attachment 1: Attachment 2: Attachment 3: Comments: I believe this project should go ahead. It will create a wider community of mtb riders  and also allow new people to get out and about in the nature on the trails of  Warburton and surrounds.  I believe it will bring more money into the local  communities with hopefully, new businesses being able to open and create new job  opportunities.  Thanks, Andy.Submission Cover Sheet 2 Warburton Mountain Bike Destination Inquiry and Advisory  Committee  Request to be heard?: No Full Name: Mathew Stoessiger Organisation: Affected property: Attachment 1: Attachment 2: Attachment 3: Comments: I support the Warburton Mountain Bike Destination Project, the project will create  jobs and enrich peoples lives through outdoor activities with minimal impact on the  environment.Subm\n"
     ]
    }
   ],
   "source": [
    "import ssl\n",
    "import urllib\n",
    "import pdfplumber\n",
    "import io\n",
    "all_text=''\n",
    "url = 'http://engage.vic.gov.au/download/document/23671'\n",
    "gcontext = ssl.SSLContext()  \n",
    "req=urllib.request.Request(url)\n",
    "\n",
    "resp=urllib.request.urlopen(req,context=gcontext)\n",
    "data = resp.read()\n",
    "with pdfplumber.open(io.BytesIO(data)) as pdf:\n",
    "    for p in pdf.pages:\n",
    "        text = p.extract_text()\n",
    "        all_text+=text.replace('\\n',' ')\n",
    "print(all_text[:1000])"
   ]
  },
  {
   "cell_type": "markdown",
   "id": "sticky-attribute",
   "metadata": {},
   "source": [
    "Where we are downloading the PDF as a binary data file using urllib. We need to provide an empty ssl certificate to avoid missing certificate errors. Depending on how you get the datafiles you may need to provide an actual certificate. \n",
    "\n",
    "`pdfplumber.open()` provides an object for accessing different elements of the pdf. For this example we want to extract all of the text from every page. This can be done by iterating over the pages in the pdf and using extract_text to retrieve the text. Here I am just going to use a string to store all of the text, because there is no guarentee that each page is a new submission. Long submissions may have multiple page comments and we ideally want to keep these together.\n",
    "\n",
    "We can apply this process to all of the submissions by iterating over the filename. We can change the url of the submission using Pythons fstring formatting. Unfortunately, the submissions files are not all linear and some do not exist, to avoid this crashing the code we can wrap the code in a try/except block. \n"
   ]
  },
  {
   "cell_type": "code",
   "execution_count": 21,
   "id": "entitled-section",
   "metadata": {},
   "outputs": [],
   "source": [
    "all_text = ''\n",
    "for i in range(23671,23672):#23728):\n",
    "    url =  f'http://engage.vic.gov.au/download/document/{i}'\n",
    "    try:\n",
    "        gcontext = ssl.SSLContext()  \n",
    "        req=urllib.request.Request(url)\n",
    "\n",
    "        resp=urllib.request.urlopen(req,context=gcontext)\n",
    "        data = resp.read()\n",
    "        with pdfplumber.open(io.BytesIO(data)) as pdf:\n",
    "            for p in pdf.pages:\n",
    "                text = p.extract_text()\n",
    "                all_text+=text.replace('\\n',' ')\n",
    "        #\n",
    "        # import pdf files and save to text\n",
    "        # \n",
    "    except BaseException as e:\n",
    "        print(e, url)"
   ]
  },
  {
   "cell_type": "markdown",
   "id": "upset-uniform",
   "metadata": {},
   "source": [
    "We now have a large string with all of the submission. We can see that every submission has the title page 'Submission Cover Sheet'. To break the submissions into categories we can split the string into separate strings using the string function split.\n"
   ]
  },
  {
   "cell_type": "code",
   "execution_count": 22,
   "id": "thrown-academy",
   "metadata": {},
   "outputs": [],
   "source": [
    "submissions = all_text.split('Submission Cover Sheet')"
   ]
  },
  {
   "cell_type": "code",
   "execution_count": 23,
   "id": "stuck-blocking",
   "metadata": {},
   "outputs": [
    {
     "data": {
      "text/plain": [
       "' 1 Warburton Mountain Bike Destination Inquiry and Advisory  Committee  Request to be heard?: No Full Name: Andrew Gard Organisation: Affected property: Attachment 1: Attachment 2: Attachment 3: Comments: I believe this project should go ahead. It will create a wider community of mtb riders  and also allow new people to get out and about in the nature on the trails of  Warburton and surrounds.  I believe it will bring more money into the local  communities with hopefully, new businesses being able to open and create new job  opportunities.  Thanks, Andy.'"
      ]
     },
     "execution_count": 23,
     "metadata": {},
     "output_type": "execute_result"
    }
   ],
   "source": [
    "submissions[1]"
   ]
  },
  {
   "cell_type": "markdown",
   "id": "infrared-invitation",
   "metadata": {},
   "source": [
    "Looking at an individual submission we can see that the text following **Comment:** is what we are interested in. We can extract all of the text following the comments by spliting the text after 'Comments:'."
   ]
  },
  {
   "cell_type": "code",
   "execution_count": 24,
   "id": "nominated-money",
   "metadata": {},
   "outputs": [],
   "source": [
    "comments = []\n",
    "for submission in submissions:\n",
    "    if 'Comments:' in submission:\n",
    "        comments.append(submission.split('Comments:')[1])"
   ]
  },
  {
   "cell_type": "markdown",
   "id": "recorded-insider",
   "metadata": {},
   "source": [
    "## Sentiment analysis\n",
    "We now have a list containing the text for each comment. Now we want to determine whether the overall sentiment of the comment is positive or negative. Sentiment analysis is one of the techniques of natural language processing. Different models exist and its generally best to build a model using a training database. For this example, we will use a pre-trained model from the natural language tool kit. Before using the sentiment analysis we need to remove any uncessary words from the comments, these include \"a, an, the for\" etc.\n"
   ]
  },
  {
   "cell_type": "code",
   "execution_count": 41,
   "id": "vocational-consequence",
   "metadata": {},
   "outputs": [
    {
     "name": "stderr",
     "output_type": "stream",
     "text": [
      "[nltk_data] Downloading package stopwords to /home/lgrose/nltk_data...\n",
      "[nltk_data]   Package stopwords is already up-to-date!\n",
      "[nltk_data] Downloading package vader_lexicon to\n",
      "[nltk_data]     /home/lgrose/nltk_data...\n",
      "[nltk_data]   Package vader_lexicon is already up-to-date!\n"
     ]
    }
   ],
   "source": [
    "import nltk\n",
    "from nltk.corpus import stopwords \n",
    "from nltk.sentiment import SentimentIntensityAnalyzer\n",
    "# download the nltk files for the first run\n",
    "# nltk.download('stopwords')\n",
    "# nltk.download('vader_lexicon')\n",
    "stop_words = set(stopwords.words('english'))\n",
    "comments_no_stop_words = []\n",
    "for comment in comments:\n",
    "    comments_no_stop_words.append([w for w in comment.split(' ') if not w.lower() in stop_words])\n",
    "\n"
   ]
  },
  {
   "cell_type": "code",
   "execution_count": null,
   "id": "solid-midnight",
   "metadata": {},
   "outputs": [],
   "source": [
    "for comn"
   ]
  },
  {
   "cell_type": "code",
   "execution_count": 46,
   "id": "extensive-semiconductor",
   "metadata": {},
   "outputs": [
    {
     "data": {
      "text/plain": [
       "{'neg': 0.0, 'neu': 0.662, 'pos': 0.338, 'compound': 0.9062}"
      ]
     },
     "execution_count": 46,
     "metadata": {},
     "output_type": "execute_result"
    }
   ],
   "source": [
    "sia = SentimentIntensityAnalyzer()\n",
    "sia.polarity_scores(' '.join(comments_no_stop_words[0]))"
   ]
  },
  {
   "cell_type": "code",
   "execution_count": 67,
   "id": "thorough-satisfaction",
   "metadata": {},
   "outputs": [],
   "source": [
    "import pandas as pd\n",
    "sentiment = pd.DataFrame([['',0,0,0,0]],columns=['comment','neg','neu','pos','compound'])\n",
    "sia = SentimentIntensityAnalyzer()\n",
    "for i, comment in enumerate(comments_no_stop_words):\n",
    "    r = sia.polarity_scores(' '.join(comment))\n",
    "    sentiment.loc[i,'comment'] = comments[i] \n",
    "    sentiment.loc[i,'neg'] = r['neg']\n",
    "    sentiment.loc[i,'neu'] = r['neu']\n",
    "    sentiment.loc[i,'pos'] = r['pos']\n",
    "    sentiment.loc[i,'compound'] = r['compound']"
   ]
  },
  {
   "cell_type": "markdown",
   "id": "threatened-script",
   "metadata": {},
   "source": [
    "## Interpreting the results\n",
    "The results of the sentiment intensity analyser are four numbers specifying the negative, positive, neutral and compound sentiment. The initial objective was to determine what the split between negative and positive submissions for the Warburton mountain bike park. To do this we need to first validate how well the method works by looking at submissions for different sentiments. "
   ]
  },
  {
   "cell_type": "code",
   "execution_count": 68,
   "id": "active-setting",
   "metadata": {},
   "outputs": [
    {
     "data": {
      "image/png": "[encoded data removed]",
      "text/plain": [
       "<Figure size 432x288 with 1 Axes>"
      ]
     },
     "metadata": {
      "needs_background": "light"
     },
     "output_type": "display_data"
    }
   ],
   "source": [
    "import matplotlib.pyplot as plt\n",
    "fig, ax = plt.subplots(1)\n",
    "ax.hist(sentiment['compound'])\n",
    "ax.set_title('Sentiment of Warburton ESS')\n",
    "ax.set_xlabel('Compound sentiment intensity')\n",
    "_ =ax.set_ylabel('Count')"
   ]
  },
  {
   "cell_type": "markdown",
   "id": "renewable-directory",
   "metadata": {},
   "source": [
    "Looking at the distribution of compound sentiment intensity we can see that the majority of responses have a positive sentiment (compound intensity is positive). We can do a quick validation of this assesement by randomly selecting some comments within different sentiment bands to get an understanding of the results. To do this we will mask the pandas dataframe using a boolean mask and then use the random method to sample from the resulting dataframe."
   ]
  },
  {
   "cell_type": "markdown",
   "id": "dimensional-effort",
   "metadata": {},
   "source": [
    "### Sentiment Intensity > 0.8"
   ]
  },
  {
   "cell_type": "code",
   "execution_count": 90,
   "id": "current-worship",
   "metadata": {},
   "outputs": [
    {
     "data": {
      "text/html": [
       "<div>\n",
       "<style scoped>\n",
       "    .dataframe tbody tr th:only-of-type {\n",
       "        vertical-align: middle;\n",
       "    }\n",
       "\n",
       "    .dataframe tbody tr th {\n",
       "        vertical-align: top;\n",
       "    }\n",
       "\n",
       "    .dataframe thead th {\n",
       "        text-align: right;\n",
       "    }\n",
       "</style>\n",
       "<table border=\"1\" class=\"dataframe\">\n",
       "  <thead>\n",
       "    <tr style=\"text-align: right;\">\n",
       "      <th></th>\n",
       "      <th>comment</th>\n",
       "      <th>compound</th>\n",
       "    </tr>\n",
       "  </thead>\n",
       "  <tbody>\n",
       "    <tr>\n",
       "      <th>52</th>\n",
       "      <td>Good day.  I write to express my support for the Warburton MTB project, which  operates on a number of levels.  I would also like to express my respect for the team  that has worked through the EES, something unprecedented for this size of project,  and a notable use of resources.  In regards to why I am confident the project makes  a great deal of sense and creates opportunity, my responses are as follows.  1.   Economic opportunity and development.  Based on the experience of other mtb  facilities in Victoria (eg Harcourt), Tasmania (Derby) and more broadly around the  globe, these trails and ancillary facilities will drive significant and year round  visitation.  As well as driving business and opportunities for existing and new  business in the area, this creates new pathways for employment and local  opportunity for people to stay and indeed thrive in an area that has been  characterised by lack of opportunity.  To deny these opportunities seems wrong to  me.  It is worth noting that facilities such as these will almost certainly generate  additional events and activities with further spin offs for the town in direct and  indirect EI as well as for local entrepreneurs and investors. 2.  Environment.   Speaking as a fan of MTB riding and of the area's stunning environment, I am  confident that the work on the trails, the EES and beyond that the culture of MTB  riders is one of care, connection and respect.  To labour a point, the contrast with  the harsh impacts of motorised recreation is stark and the chance to introduce such  a special place to a broader group will enhance the chance to care for it with a  broader group of committed supporters and caretakers. 3.  Concerned parties.  It is  important to listen carefully to all and for different views to hear and respect each  other.  I am confident that the process has gone beyond any other to hear and  address concerns.  I am also confident that reasonable objectors will be pleasantly  surprised by how this enhances the wellbeing of the area and the towns based on  diverse experiences from places such as Derby, Christchurch and beyond.  In  conclusion, well done to all and I am looking forward to the project getting  underway.</td>\n",
       "      <td>0.9976</td>\n",
       "    </tr>\n",
       "    <tr>\n",
       "      <th>20</th>\n",
       "      <td>I have found that the ESS is comprenhesive and well written in addressing the  concerns of locals and those worried about envrionmental impacts. The facts is that  great care does go into considering these impacts and it is evident that the team  have done a fantastic job. Most mountain bikers are also very keen on preserving  nature as best they can. For me personally it is a love of nature (and adrenaline) that  brought me to the sport and not one should compromise the other. Bring on  Warby!!!!</td>\n",
       "      <td>0.9746</td>\n",
       "    </tr>\n",
       "  </tbody>\n",
       "</table>\n",
       "</div>"
      ],
      "text/plain": [
       "                                                                                                                                                                                                                                                                                                                                                                                                                                                                                                                                                                                                                                                                                                                                                                                                                                                                                                                                                                                                                                                                                                                                                                                                                                                                                                                                                                                                                                                                                                                                                                                                                                                                                                                                                                                                                                                                                                                                                                                                                                                                                                                                                                                                                                                                                                           comment  \\\n",
       "52   Good day.  I write to express my support for the Warburton MTB project, which  operates on a number of levels.  I would also like to express my respect for the team  that has worked through the EES, something unprecedented for this size of project,  and a notable use of resources.  In regards to why I am confident the project makes  a great deal of sense and creates opportunity, my responses are as follows.  1.   Economic opportunity and development.  Based on the experience of other mtb  facilities in Victoria (eg Harcourt), Tasmania (Derby) and more broadly around the  globe, these trails and ancillary facilities will drive significant and year round  visitation.  As well as driving business and opportunities for existing and new  business in the area, this creates new pathways for employment and local  opportunity for people to stay and indeed thrive in an area that has been  characterised by lack of opportunity.  To deny these opportunities seems wrong to  me.  It is worth noting that facilities such as these will almost certainly generate  additional events and activities with further spin offs for the town in direct and  indirect EI as well as for local entrepreneurs and investors. 2.  Environment.   Speaking as a fan of MTB riding and of the area's stunning environment, I am  confident that the work on the trails, the EES and beyond that the culture of MTB  riders is one of care, connection and respect.  To labour a point, the contrast with  the harsh impacts of motorised recreation is stark and the chance to introduce such  a special place to a broader group will enhance the chance to care for it with a  broader group of committed supporters and caretakers. 3.  Concerned parties.  It is  important to listen carefully to all and for different views to hear and respect each  other.  I am confident that the process has gone beyond any other to hear and  address concerns.  I am also confident that reasonable objectors will be pleasantly  surprised by how this enhances the wellbeing of the area and the towns based on  diverse experiences from places such as Derby, Christchurch and beyond.  In  conclusion, well done to all and I am looking forward to the project getting  underway.   \n",
       "20                                                                                                                                                                                                                                                                                                                                                                                                                                                                                                                                                                                                                                                                                                                                                                                                                                                                                                                                                                                                                                                                                                                                                                                                                                                                                                                                                                                                                                                                                                                                                                                                                                                                                                                                                                                          I have found that the ESS is comprenhesive and well written in addressing the  concerns of locals and those worried about envrionmental impacts. The facts is that  great care does go into considering these impacts and it is evident that the team  have done a fantastic job. Most mountain bikers are also very keen on preserving  nature as best they can. For me personally it is a love of nature (and adrenaline) that  brought me to the sport and not one should compromise the other. Bring on  Warby!!!!   \n",
       "\n",
       "    compound  \n",
       "52    0.9976  \n",
       "20    0.9746  "
      ]
     },
     "execution_count": 90,
     "metadata": {},
     "output_type": "execute_result"
    }
   ],
   "source": [
    "old_column_width = pd.options.display.max_colwidth \n",
    "pd.options.display.max_colwidth = None\n",
    "sentiment.loc[sentiment['compound']>0.8,['comment','compound']].sample(2)\n",
    "# pd.options.display.max_colwidth = old_column_widt2"
   ]
  },
  {
   "cell_type": "markdown",
   "id": "approximate-winter",
   "metadata": {},
   "source": [
    "### Sentiment Intensity > 0.6 and < 0.8"
   ]
  },
  {
   "cell_type": "code",
   "execution_count": 91,
   "id": "naval-geography",
   "metadata": {},
   "outputs": [
    {
     "data": {
      "text/html": [
       "<div>\n",
       "<style scoped>\n",
       "    .dataframe tbody tr th:only-of-type {\n",
       "        vertical-align: middle;\n",
       "    }\n",
       "\n",
       "    .dataframe tbody tr th {\n",
       "        vertical-align: top;\n",
       "    }\n",
       "\n",
       "    .dataframe thead th {\n",
       "        text-align: right;\n",
       "    }\n",
       "</style>\n",
       "<table border=\"1\" class=\"dataframe\">\n",
       "  <thead>\n",
       "    <tr style=\"text-align: right;\">\n",
       "      <th></th>\n",
       "      <th>comment</th>\n",
       "      <th>compound</th>\n",
       "    </tr>\n",
       "  </thead>\n",
       "  <tbody>\n",
       "    <tr>\n",
       "      <th>35</th>\n",
       "      <td>This mountain bike development is critical to tourism throughout the sector,  bringing people in from interstate and overseas to the area, potentially millions of  dollars a year in revenue for small businesses.  It's also critical to mental health for  those in need, outdoor activities and sports are a perfect way to help improve fitness  and illness by providing other outlets and means to engage with other people.</td>\n",
       "      <td>0.7579</td>\n",
       "    </tr>\n",
       "    <tr>\n",
       "      <th>25</th>\n",
       "      <td>To whom it may concern, I would like to offer my full support of the Warburton MTB  trails project. Cannot wait for it to be built and to see the many benefits come to  fruition. Dave</td>\n",
       "      <td>0.7783</td>\n",
       "    </tr>\n",
       "  </tbody>\n",
       "</table>\n",
       "</div>"
      ],
      "text/plain": [
       "                                                                                                                                                                                                                                                                                                                                                                                                                                 comment  \\\n",
       "35   This mountain bike development is critical to tourism throughout the sector,  bringing people in from interstate and overseas to the area, potentially millions of  dollars a year in revenue for small businesses.  It's also critical to mental health for  those in need, outdoor activities and sports are a perfect way to help improve fitness  and illness by providing other outlets and means to engage with other people.   \n",
       "25                                                                                                                                                                                                                                               To whom it may concern, I would like to offer my full support of the Warburton MTB  trails project. Cannot wait for it to be built and to see the many benefits come to  fruition. Dave   \n",
       "\n",
       "    compound  \n",
       "35    0.7579  \n",
       "25    0.7783  "
      ]
     },
     "execution_count": 91,
     "metadata": {},
     "output_type": "execute_result"
    }
   ],
   "source": [
    "sentiment.loc[(sentiment['compound']<0.8) & (sentiment['compound']>0.6),['comment','compound']].sample(2)"
   ]
  },
  {
   "cell_type": "markdown",
   "id": "brazilian-armstrong",
   "metadata": {},
   "source": [
    "### Sentiment Intensity > -0.2 and < 0.2"
   ]
  },
  {
   "cell_type": "code",
   "execution_count": 92,
   "id": "floppy-silly",
   "metadata": {},
   "outputs": [
    {
     "data": {
      "text/html": [
       "<div>\n",
       "<style scoped>\n",
       "    .dataframe tbody tr th:only-of-type {\n",
       "        vertical-align: middle;\n",
       "    }\n",
       "\n",
       "    .dataframe tbody tr th {\n",
       "        vertical-align: top;\n",
       "    }\n",
       "\n",
       "    .dataframe thead th {\n",
       "        text-align: right;\n",
       "    }\n",
       "</style>\n",
       "<table border=\"1\" class=\"dataframe\">\n",
       "  <thead>\n",
       "    <tr style=\"text-align: right;\">\n",
       "      <th></th>\n",
       "      <th>comment</th>\n",
       "      <th>compound</th>\n",
       "    </tr>\n",
       "  </thead>\n",
       "  <tbody>\n",
       "    <tr>\n",
       "      <th>32</th>\n",
       "      <td></td>\n",
       "      <td>0.0</td>\n",
       "    </tr>\n",
       "    <tr>\n",
       "      <th>36</th>\n",
       "      <td>-I'd be always willing to travel interstate to visit a place similar to the described</td>\n",
       "      <td>0.0</td>\n",
       "    </tr>\n",
       "  </tbody>\n",
       "</table>\n",
       "</div>"
      ],
      "text/plain": [
       "                                                                                   comment  \\\n",
       "32                                                                                           \n",
       "36   -I'd be always willing to travel interstate to visit a place similar to the described   \n",
       "\n",
       "    compound  \n",
       "32       0.0  \n",
       "36       0.0  "
      ]
     },
     "execution_count": 92,
     "metadata": {},
     "output_type": "execute_result"
    }
   ],
   "source": [
    "sentiment.loc[(sentiment['compound']<0.2) & (sentiment['compound']>-0.2),['comment','compound']].sample(2)"
   ]
  },
  {
   "cell_type": "markdown",
   "id": "political-motor",
   "metadata": {},
   "source": [
    "### Sentiment Intensity > -1 and < 0.2"
   ]
  },
  {
   "cell_type": "code",
   "execution_count": 93,
   "id": "failing-wichita",
   "metadata": {},
   "outputs": [
    {
     "data": {
      "text/html": [
       "<div>\n",
       "<style scoped>\n",
       "    .dataframe tbody tr th:only-of-type {\n",
       "        vertical-align: middle;\n",
       "    }\n",
       "\n",
       "    .dataframe tbody tr th {\n",
       "        vertical-align: top;\n",
       "    }\n",
       "\n",
       "    .dataframe thead th {\n",
       "        text-align: right;\n",
       "    }\n",
       "</style>\n",
       "<table border=\"1\" class=\"dataframe\">\n",
       "  <thead>\n",
       "    <tr style=\"text-align: right;\">\n",
       "      <th></th>\n",
       "      <th>comment</th>\n",
       "      <th>compound</th>\n",
       "    </tr>\n",
       "  </thead>\n",
       "  <tbody>\n",
       "    <tr>\n",
       "      <th>2</th>\n",
       "      <td>Hello. As a Resident of Warburton I am very concerned with the proposed Golf  Course trail. From my road (and there are many off it), we get out onto Warburton  Hwy from the bridge. On weekends it can take up to 5 minutes to get accross as  traffic is a nightmare. Now this proposal means the impact will be much greater.  That bridge is not built for congestion and I am shocked this location has been  suggested as a hub for this trail. Dammans road is also small and is not made for  heavy congestion especially heading further along towards the 2nd bridge. There is a  very very narrow road that we already navigate through.   Increased traffic on this  road means a huge increase of risk in fire season.   Parking -this part of the survey is  ridiculous. Anyone who has been to Warburton on a weekend knows it is incredibly  hard to get a park. Locals don't even bother to leave there home. So instead of  increasing parking spots this proposal increases more people. Where are they going  to park? Ill tell you where. All dangerously down Dammans Road where there is no  parking.   I have no problem with a trail but I have a massive problem with the golf  club location being built. The roads do not support the increased traffic flow and if  any of the people who are on the committee for this trail lived on anonymous of the  roads of Dammans road they wouldn't either.  I am not waiting 10 to 15 minutes to  get onto Warburton Highway. I dont live in the city. This is a joke.</td>\n",
       "      <td>-0.8929</td>\n",
       "    </tr>\n",
       "    <tr>\n",
       "      <th>36</th>\n",
       "      <td>-I'd be always willing to travel interstate to visit a place similar to the described</td>\n",
       "      <td>0.0000</td>\n",
       "    </tr>\n",
       "  </tbody>\n",
       "</table>\n",
       "</div>"
      ],
      "text/plain": [
       "                                                                                                                                                                                                                                                                                                                                                                                                                                                                                                                                                                                                                                                                                                                                                                                                                                                                                                                                                                                                                                                                                                                                                                                                                                                                                                                                                                                                                                                                                                                                            comment  \\\n",
       "2    Hello. As a Resident of Warburton I am very concerned with the proposed Golf  Course trail. From my road (and there are many off it), we get out onto Warburton  Hwy from the bridge. On weekends it can take up to 5 minutes to get accross as  traffic is a nightmare. Now this proposal means the impact will be much greater.  That bridge is not built for congestion and I am shocked this location has been  suggested as a hub for this trail. Dammans road is also small and is not made for  heavy congestion especially heading further along towards the 2nd bridge. There is a  very very narrow road that we already navigate through.   Increased traffic on this  road means a huge increase of risk in fire season.   Parking -this part of the survey is  ridiculous. Anyone who has been to Warburton on a weekend knows it is incredibly  hard to get a park. Locals don't even bother to leave there home. So instead of  increasing parking spots this proposal increases more people. Where are they going  to park? Ill tell you where. All dangerously down Dammans Road where there is no  parking.   I have no problem with a trail but I have a massive problem with the golf  club location being built. The roads do not support the increased traffic flow and if  any of the people who are on the committee for this trail lived on anonymous of the  roads of Dammans road they wouldn't either.  I am not waiting 10 to 15 minutes to  get onto Warburton Highway. I dont live in the city. This is a joke.   \n",
       "36                                                                                                                                                                                                                                                                                                                                                                                                                                                                                                                                                                                                                                                                                                                                                                                                                                                                                                                                                                                                                                                                                                                                                                                                                                                                                                                                                                                                                                                            -I'd be always willing to travel interstate to visit a place similar to the described   \n",
       "\n",
       "    compound  \n",
       "2    -0.8929  \n",
       "36    0.0000  "
      ]
     },
     "execution_count": 93,
     "metadata": {},
     "output_type": "execute_result"
    }
   ],
   "source": [
    "sentiment.loc[(sentiment['compound']<0.2) & (sentiment['compound']>-1),['comment','compound']].sample(2)"
   ]
  },
  {
   "cell_type": "markdown",
   "id": "potential-german",
   "metadata": {},
   "source": [
    "## Analysis of sentiment\n",
    "We can see that the sentiment analysis is separating submissions that are positive from those that are negative. However, not all negative responses are against the development of the mountain bike park. Some submissions have a negative sentiment simply because they are frustrated at the delays for the mountain bike park. "
   ]
  },
  {
   "cell_type": "code",
   "execution_count": null,
   "id": "concerned-creativity",
   "metadata": {},
   "outputs": [],
   "source": []
  }
 ],
 "metadata": {
  "kernelspec": {
   "display_name": "Python 3",
   "language": "python",
   "name": "python3"
  },
  "language_info": {
   "codemirror_mode": {
    "name": "ipython",
    "version": 3
   },
   "file_extension": ".py",
   "mimetype": "text/x-python",
   "name": "python",
   "nbconvert_exporter": "python",
   "pygments_lexer": "ipython3",
   "version": "3.9.1"
  }
 },
 "nbformat": 4,
 "nbformat_minor": 5
}
