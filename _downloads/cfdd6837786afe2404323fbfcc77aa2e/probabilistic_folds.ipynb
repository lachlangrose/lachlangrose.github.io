{
  "cells": [
    {
      "cell_type": "code",
      "execution_count": null,
      "metadata": {
        "collapsed": false
      },
      "outputs": [],
      "source": [
        "%matplotlib inline"
      ]
    },
    {
      "cell_type": "markdown",
      "metadata": {},
      "source": [
        "\nProbabilistic folds\n===================\nImports\n-------\n\n\n"
      ]
    },
    {
      "cell_type": "code",
      "execution_count": null,
      "metadata": {
        "collapsed": false
      },
      "outputs": [],
      "source": [
        "#import the Forward Modelling Engine modules - LoopStructural\nfrom LoopStructural import GeologicalModel\nfrom LoopStructural.datasets import load_noddy_single_fold\nfrom LoopStructural.visualisation.model_visualisation import LavaVuModelViewer\nfrom LoopStructural.utils.helper import strike_dip_vector, plunge_and_plunge_dir_to_vector\n# from LoopStructural.visualisation.rotation_angle_plotter import RotationAnglePlotter\n# import other libraries\nimport pandas as pd\nimport numpy as np\n# from scipy.interpolate import Rbf\n# import matplotlib.pyplot as plt\nimport logging\nlogging.getLogger().setLevel(logging.DEBUG)\n# %load_ext snakeviz\n\n# load the sample data\ndata, boundary_points = load_noddy_single_fold()\ndata.head()"
      ]
    },
    {
      "cell_type": "markdown",
      "metadata": {},
      "source": [
        "The input dataset was generated using Noddy by sampling the orientation\nof a structure on a regular grid. We have loaded it into a pandas\nDataFrame, this is basically an excel spreadsheet for python. Above are\nthe first 5 rows of the dataset and as we can see it is regularly\nsampled with data points being sampled regularly along the $z$,\n$y$ and $x$ axes. In order to avoid artefacts due to the\nsampling errors we will shuffle the data. We can do this using the\n``random`` column in the DataFrame (ensuring everyone has the same\ndata).\n\n\n"
      ]
    },
    {
      "cell_type": "code",
      "execution_count": null,
      "metadata": {
        "collapsed": false
      },
      "outputs": [],
      "source": [
        "data = data.sort_values('random') # sort the data by a random int then we can select N random points \ndata.head()"
      ]
    },
    {
      "cell_type": "markdown",
      "metadata": {},
      "source": [
        "The data can be visualised using the lavavu 3d viewer - by first\nconverting from strike and dip to normal vectors. Note that there are a\nlot of data points to display as the model volume was regularly sampled\non a grid.\n\n\n"
      ]
    },
    {
      "cell_type": "code",
      "execution_count": null,
      "metadata": {
        "collapsed": false
      },
      "outputs": [],
      "source": [
        "npoints = 20"
      ]
    },
    {
      "cell_type": "markdown",
      "metadata": {},
      "source": [
        "Build model using maximum likelihood\n~~~~~~~~~~~~~~~~~~~~~~~~~~~~~~~~~~~~\n\n\n"
      ]
    },
    {
      "cell_type": "code",
      "execution_count": null,
      "metadata": {
        "collapsed": false
      },
      "outputs": [],
      "source": [
        "# val = /\nmdata = pd.concat([data[:npoints],data[data['type']=='s1']])\nmodel = GeologicalModel(boundary_points[0,:],boundary_points[1,:])\nmodel.set_model_data(mdata)\nfold_frame = model.create_and_add_fold_frame('s1',\n                                             interpolatortype='PLI',\n                                             nelements=10000,buffer=0.5,\n                                             solver='pyamg',\n                                            damp=True\n                                            )\nstratigraphy = model.create_and_add_folded_foliation('s0',\n                                               fold_frame['feature'],\n                                                nelements=10000,\n                                               fold_axis=[-6.51626577e-06, -5.00013645e-01, -8.66017526e-01],\n#                                                    limb_wl=1\n                                                     buffer=0.5\n                                                    )\nviewer = LavaVuModelViewer(model,background=\"white\")\n# viewer.add_scalar_field(model.bounding_box,(38,55,30),\n#                       'box',\n#                      paint_with=stratigraphy,\n#                      cmap='prism')\nviewer.add_isosurface(fold_frame['feature'][0],\n                      colour='blue',\n#                       isovalue=0.4,\n                      alpha=0.5)\nviewer.add_data(fold_frame['feature'][0])\nviewer.add_isosurface(fold_frame['feature'][1],colour='green',alpha=0.5,isovalue=0)\n# viewer.add_vector_field(fold_frame['feature'][0],locations=fold_frame['feature'][0].get_interpolator().support.barycentre())\nviewer.add_data(fold_frame['feature'][1])\n\n# viewer.add_data(stratigraphy['feature'])\nviewer.add_isosurface(stratigraphy['feature'])\nviewer.interactive()\nlogging.getLogger().critical(\"aaaa\")\n# plt.plot(stratigraphy['foliation'],stratigraphy['limb_rotation'],'bo')\n# x = np.linspace(fold_frame['feature'][0].min(),fold_frame['feature'][1].max(),100)\n# plt.plot(x,stratigraphy['fold'].fold_limb_rotation(x),'r--')"
      ]
    },
    {
      "cell_type": "markdown",
      "metadata": {},
      "source": [
        "Useful pdfs\n~~~~~~~~~~~\n\n\n"
      ]
    },
    {
      "cell_type": "code",
      "execution_count": null,
      "metadata": {
        "collapsed": false
      },
      "outputs": [],
      "source": [
        "def normal(value,mu, sigma):\n    prob = -np.log(1.0/(np.sqrt(2*np.pi)*sigma))-0.5*(value-mu)**2/sigma**2\n#     print(prob)\n    return prob#-np.log(1.0/(np.sqrt(2*np.pi)*sigma))-0.5*(value-mu)**2/sigma**2\n\ndef jefferyprior(sigma):\n    if sigma <= 0:\n        return -np.inf\n    return np.log(sigma)"
      ]
    },
    {
      "cell_type": "markdown",
      "metadata": {},
      "source": [
        "Define the fixed parts of the model\n~~~~~~~~~~~~~~~~~~~~~~~~~~~~~~~~~~~\n\n\n"
      ]
    },
    {
      "cell_type": "code",
      "execution_count": null,
      "metadata": {
        "collapsed": false
      },
      "outputs": [],
      "source": [
        "from LoopStructural.modelling.fold import fourier_series\nmodel = GeologicalModel(boundary_points[0,:],boundary_points[1,:])\nmodel.set_model_data(mdata)\nfold_frame = model.create_and_add_fold_frame('s1',\n                                             interpolatortype='PLI',\n                                             nelements=10000,buffer=0.5,\n                                             solver='lu',\n                                            damp=True\n                                            )"
      ]
    },
    {
      "cell_type": "markdown",
      "metadata": {},
      "source": [
        "Define log_likelihood\n~~~~~~~~~~~~~~~~~~~~~\n\nWe can move the expensive parts of the computation out of the likelihood\nfunction to reduce computational time\n\n\n"
      ]
    },
    {
      "cell_type": "code",
      "execution_count": null,
      "metadata": {
        "collapsed": false
      },
      "outputs": [],
      "source": [
        "wl = 10\nc0 = 0\nc1 = 0\nc2 = 0 \nfold_limb_function = lambda x: np.rad2deg(\n            np.arctan(\n                fourier_series(x, c0, c1, c2, wl)))\n\nstrati = model.create_and_add_folded_foliation('s0',\n                                           fold_frame['feature'],\n                                            nelements=10000,\n                                           fold_axis=[-6.51626577e-06, -5.00013645e-01, -8.66017526e-01],\n#                                                    limb_wl=1\n                                                 buffer=0.5,\n                                               limb_function=fold_limb_function,\n                                               solver = 'fake'\n                                        )\ndef log_likelihood(theta):\n    # unpack parameters\n    wl, c0, c1, c2, sigma = theta\n    fold_limb_function = lambda x: np.rad2deg(\n            np.arctan(\n                fourier_series(x, c0, c1, c2, wl)))\n    strati['fold'].fold_limb_rotation.set_function(fold_limb_function)\n#     sigma = .1\n\n    misfit = strati['fold'].fold_limb_rotation.calculate_misfit()\n    \n    log_like = -0.5 * np.sum(np.log(2 * np.pi * sigma ** 2) + (0 - misfit) ** 2 / sigma ** 2)\n\n    if ~np.isfinite(log_like):\n        return -np.inf\n    \n    return log_like"
      ]
    },
    {
      "cell_type": "markdown",
      "metadata": {},
      "source": [
        "Define prior\n~~~~~~~~~~~~\n\nAssign each of the model parameters to a PDF using the helper functions\nbefore.\n\n\n"
      ]
    },
    {
      "cell_type": "code",
      "execution_count": null,
      "metadata": {
        "collapsed": false
      },
      "outputs": [],
      "source": [
        "def log_prior(theta):\n    wl, c0, c1, c2, sigma = theta\n    lp = jefferyprior(sigma)\n    lp+= normal(c0,0,2)\n    lp+= normal(c1,0,2)\n    lp+= normal(c2,0,2)\n    lp+= normal(wl,10,3)\n    return lp\n\ndef log_probability(theta):\n    lp = log_prior(theta)\n    if not np.isfinite(lp):\n        return -np.inf\n    ll = log_likelihood(theta)\n    return lp + log_likelihood(theta)\n\nfrom scipy.optimize import minimize\nnll = lambda *args : -log_likelihood(*args)\ninitial = [10,1,1,1,0.0001]\nsoln = minimize(nll, initial)\nprint(soln)\n\nx = np.linspace(-10,10,100)\nplt.plot(stratigraphy['fold'].fold_limb_rotation.fold_frame_coordinate,stratigraphy['fold'].fold_limb_rotation.rotation_angle,'bo')\nwl, c0, c1, c2, sig = soln['x']\nplt.plot(x,np.rad2deg(\n            np.arctan(\n                fourier_series(x, c0, c1, c2, wl))),alpha=0.3)\n\nimport emcee\n# ndim = 5\nstart = soln.x#stratigraphy['fold'].fold_limb_rotation.fitted_params#np.zeros(ndim)#np.array([600,0,0,0])\npos = soln.x + 1e-3 * np.random.randn(10, ndim)\nnwalkers, ndim = pos.shape\n\nsampler = emcee.EnsembleSampler(nwalkers, ndim, log_probability)\nsampler.run_mcmc(pos, 200, progress=True)\n\nflat_samples = sampler.get_chain(discard=100, flat=True)#,thin=10)\n\nplt.hist(flat_samples[:,0])\n\nimport corner\nflat_samples.shape\nfig = corner.corner(\n    flat_samples\n);\n\nimport matplotlib.pyplot as plt\n\nx = np.linspace(-10,10,100)\nplt.plot(stratigraphy['fold'].fold_limb_rotation.fold_frame_coordinate,stratigraphy['fold'].fold_limb_rotation.rotation_angle,'bo')\nfor i in range(len(flat_samples)):\n    wl, c0, c1, c2, sig = flat_samples[i,:]\n    plt.plot(x,np.rad2deg(\n                np.arctan(\n                    fourier_series(x, c0, c1, c2, wl))),alpha=0.1,color='black')\n    \n\nplt.plot(stratigraphy['fold'].fold_limb_rotation.fold_frame_coordinate,stratigraphy['fold'].fold_limb_rotation.rotation_angle,'bo')"
      ]
    }
  ],
  "metadata": {
    "kernelspec": {
      "display_name": "Python 3",
      "language": "python",
      "name": "python3"
    },
    "language_info": {
      "codemirror_mode": {
        "name": "ipython",
        "version": 3
      },
      "file_extension": ".py",
      "mimetype": "text/x-python",
      "name": "python",
      "nbconvert_exporter": "python",
      "pygments_lexer": "ipython3",
      "version": "3.6.6"
    }
  },
  "nbformat": 4,
  "nbformat_minor": 0
}