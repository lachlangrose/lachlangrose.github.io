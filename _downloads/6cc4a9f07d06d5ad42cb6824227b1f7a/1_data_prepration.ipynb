{
  "cells": [
    {
      "cell_type": "code",
      "execution_count": null,
      "metadata": {
        "collapsed": false
      },
      "outputs": [],
      "source": [
        "%matplotlib inline"
      ]
    },
    {
      "cell_type": "markdown",
      "metadata": {},
      "source": [
        "\n# Building an implicit surface\n\nThis tutorial will demonstrate how to create an implicit surface representation of surfaces from a combination of orientation and location observations.\n\nImplicit surface representation involves finding an unknown function where $f(x,y,z)$ matches observations of the surface geometry. We generate a scalar field where the scalar value is the distance away from a reference horizon. The reference horizon is arbritary and can either be:\n\n * a single geological surface where the scalar field would represent the signed distance away from this surface. (above the surface positive and below negative)\n * Where multiple conformable horizons are observed the same scalar field can be used to represent these surfaces and the thickness of the layers is used to determine the relative scalar value for each surface\n\n\nThis tutorial will demonstrate both of these approaches for modelling a number of horizons picked from seismic data sets.\n\n"
      ]
    },
    {
      "cell_type": "code",
      "execution_count": null,
      "metadata": {
        "collapsed": false
      },
      "outputs": [],
      "source": [
        "from LoopStructural import GeologicalModel\nfrom LoopStructural.visualisation import LavaVuModelViewer\n\nfrom LoopStructural.datasets import load_claudius #demo data\n\nimport matplotlib.pyplot as plt\nimport pandas as pd\nimport glob\nimport numpy as np\nimport logging\nlogging.getLogger().setLevel(logging.INFO)\ndata, bb = load_claudius()\nmodel = GeologicalModel(bb[0, :], bb[1, :])\nmodel.set_model_data(data)\n# print(data['type'])\ns0 = model.create_and_add_foliation('strati',\n                                    interpolatortype='PLI',\n                                    nelements=1000,\n                                    solver='cg',\n                                    damp=False)\nprint(len(s0['feature'].get_interpolator().row))\nnewrows = s0['feature'].get_interpolator().remove_constraints_from_least_squares(name='regularisation')\nprint(newrows.shape)\nplt.plot(np.unique(newrows))\nplt.show()"
      ]
    }
  ],
  "metadata": {
    "kernelspec": {
      "display_name": "Python 3",
      "language": "python",
      "name": "python3"
    },
    "language_info": {
      "codemirror_mode": {
        "name": "ipython",
        "version": 3
      },
      "file_extension": ".py",
      "mimetype": "text/x-python",
      "name": "python",
      "nbconvert_exporter": "python",
      "pygments_lexer": "ipython3",
      "version": "3.6.6"
    }
  },
  "nbformat": 4,
  "nbformat_minor": 0
}