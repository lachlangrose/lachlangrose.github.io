{
  "cells": [
    {
      "cell_type": "code",
      "execution_count": null,
      "metadata": {
        "collapsed": false
      },
      "outputs": [],
      "source": [
        "%matplotlib inline"
      ]
    },
    {
      "cell_type": "markdown",
      "metadata": {},
      "source": [
        "\n7. Comparing interpolators\n===========================\nThis tutorial demonstrates how different interpolation algorithms can be compared and how the results can be visually\ninspected.\n\n\n"
      ]
    },
    {
      "cell_type": "code",
      "execution_count": null,
      "metadata": {
        "collapsed": false
      },
      "outputs": [],
      "source": [
        "from LoopStructural import GeologicalModel\nfrom LoopStructural.datasets import load_claudius\nfrom LoopStructural.visualisation import LavaVuModelViewer\n\nimport pandas as pd\nimport numpy as np\n\ndata, bb = load_claudius()\ndata = data.reset_index()\n\nresults = {}\nfor interpolator in ['PLI','FDI']:#,'Surfe']:\n    model = GeologicalModel(bb[0,:],bb[1,:])\n    model.set_model_data(data)\n    strati_pli = model.create_and_add_foliation('strati',\n                                  interpolatortype=interpolator,\n                                   nelements=1e4,\n                                   solver='pyamg'\n                                  )\n\nviewer = LavaVuModelViewer(model)\nfor name, result in results.items():\n    viewer.add_isosurface(result['feature'],\n                          slices=[0,-60,-250,-330],\n                         paint_with=result['feature'],\n                          name=name)\nviewer.rotate([-85.18760681152344, 42.93233871459961, 0.8641873002052307])\nviewer.display()"
      ]
    }
  ],
  "metadata": {
    "kernelspec": {
      "display_name": "Python 3",
      "language": "python",
      "name": "python3"
    },
    "language_info": {
      "codemirror_mode": {
        "name": "ipython",
        "version": 3
      },
      "file_extension": ".py",
      "mimetype": "text/x-python",
      "name": "python",
      "nbconvert_exporter": "python",
      "pygments_lexer": "ipython3",
      "version": "3.6.6"
    }
  },
  "nbformat": 4,
  "nbformat_minor": 0
}