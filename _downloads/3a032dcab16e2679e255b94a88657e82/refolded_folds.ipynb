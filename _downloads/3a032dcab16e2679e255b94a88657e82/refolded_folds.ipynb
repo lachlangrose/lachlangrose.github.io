{
  "cells": [
    {
      "cell_type": "code",
      "execution_count": null,
      "metadata": {
        "collapsed": false
      },
      "outputs": [],
      "source": [
        "%matplotlib inline"
      ]
    },
    {
      "cell_type": "markdown",
      "metadata": {},
      "source": [
        "\nRefolded folds\n==============\n\n\n\n"
      ]
    },
    {
      "cell_type": "code",
      "execution_count": null,
      "metadata": {
        "collapsed": false
      },
      "outputs": [],
      "source": [
        "from LoopStructural import GeologicalModel\nfrom LoopStructural.visualisation import LavaVuModelViewer\nfrom LoopStructural.datasets import load_laurent2016\nimport numpy as np\nimport pandas as pd\nimport glob\nimport os\nimport matplotlib.pyplot as plt\nimport logging\n# logging.getLogger().setLevel(logging.INFO)\n\n# load in the data from the provided examples\ndata, bb = load_laurent2016()\n# bb[1,2] = 10000\n\ndata.head()\n\nnewdata = pd.DataFrame([[5923.504395,4748.135254,3588.621094,'s2',1.0]],columns=['X','Y','Z','type','val'])\ndata = pd.concat([data,newdata],sort=False)\ndata[np.logical_and(data['type'] == 's2',np.isnan(data['nx']))]\ndata.loc[np.logical_and(data['type'] == 's0',~np.isnan(data['val'])),'type'] = 's01'\n\n\nrotation = [-69.11979675292969, 15.704944610595703, 6.00014591217041]"
      ]
    },
    {
      "cell_type": "markdown",
      "metadata": {},
      "source": [
        "Modelling S2\n~~~~~~~~~~~~\n\n\n"
      ]
    },
    {
      "cell_type": "code",
      "execution_count": null,
      "metadata": {
        "collapsed": false
      },
      "outputs": [],
      "source": [
        "model = GeologicalModel(bb[0,:],bb[1,:])\nmodel.set_model_data(data)\ns2 = model.create_and_add_fold_frame('s2',\n                                     nelements=10000, \n                                     buffer=0.5,\n                                    solver='lu',\n                                    damp=True)\nviewer = LavaVuModelViewer(model)\nviewer.add_scalar_field(s2['feature'][0],\n                       cmap='prism')\nviewer.add_isosurface(s2['feature'][0],\n                     slices=[0,1])\nviewer.add_data(s2['feature'][0])\nviewer.rotate(rotation)\nviewer.interactive()\n# viewer.display()"
      ]
    },
    {
      "cell_type": "markdown",
      "metadata": {},
      "source": [
        "Modelling S1\n~~~~~~~~~~~~\n\n\n"
      ]
    },
    {
      "cell_type": "code",
      "execution_count": null,
      "metadata": {
        "collapsed": false
      },
      "outputs": [],
      "source": [
        "s1 = model.create_and_add_folded_fold_frame('s1',\n                                            limb_wl=4, \n                                            av_fold_axis=True,\n                                            nelements=50000,\n                                            buffer=0.3,\n                                            solver='lu'\n                                           )\n\n\n\nviewer = LavaVuModelViewer(model)\nviewer.add_scalar_field(s1['feature'][0],\n                       cmap='prism')\nviewer.rotate([-69.11979675292969, 15.704944610595703, 6.00014591217041])\nviewer.display()\n\nfig, ax = plt.subplots(1,2,figsize=(10,5))\nx = np.linspace(s2['feature'][0].min(),s2['feature'][0].max(),1000)\nax[0].plot(x,s1['fold'].fold_limb_rotation(x))\nax[0].plot(s1['foliation'],s1['limb_rotation'],'bo')\nax[1].plot(s1['limb_svariogram'].lags,s1['limb_svariogram'].variogram,'bo')"
      ]
    },
    {
      "cell_type": "markdown",
      "metadata": {},
      "source": [
        "Modelling S0\n~~~~~~~~~~~~\n\n\n"
      ]
    },
    {
      "cell_type": "code",
      "execution_count": null,
      "metadata": {
        "collapsed": false
      },
      "outputs": [],
      "source": [
        "s0 = model.create_and_add_folded_foliation('s0',\n                                            limb_wl=1., \n                                            av_fold_axis=True,\n                                            nelements=50000,\n                                            buffer=0.2,\n                                            damp=True,\n                                           solver='lu'\n                                           )\n\nviewer = LavaVuModelViewer(model)\nviewer.add_scalar_field(s0['feature'],\n                       cmap='tab20')\nviewer.rotate([-69.11979675292969, 15.704944610595703, 6.00014591217041])\nviewer.display()\n\nfig, ax = plt.subplots(1,2,figsize=(10,5))\nx = np.linspace(s1['feature'][0].min(),s1['feature'][0].max(),1000)\nax[0].plot(x,s0['fold'].fold_limb_rotation(x))\nax[0].plot(s0['foliation'],s0['limb_rotation'],'bo')\n# ax[1].plot(s0['limb_svariogram'].lags,s1['limb_svariogram'].variogram,'bo')\n\nviewer = LavaVuModelViewer(model)\nviewer.add_isosurface(s0['feature'],nslices=10,paint_with=s0['feature'],cmap='tab20')\n# viewer.add_data(s0['feature'])\n# viewer.add_fold(s0['fold'],locations=s0['support'].barycentre()[::80])\nviewer.rotate([-69.11979675292969, 15.704944610595703, 6.00014591217041])\nviewer.display()"
      ]
    }
  ],
  "metadata": {
    "kernelspec": {
      "display_name": "Python 3",
      "language": "python",
      "name": "python3"
    },
    "language_info": {
      "codemirror_mode": {
        "name": "ipython",
        "version": 3
      },
      "file_extension": ".py",
      "mimetype": "text/x-python",
      "name": "python",
      "nbconvert_exporter": "python",
      "pygments_lexer": "ipython3",
      "version": "3.6.6"
    }
  },
  "nbformat": 4,
  "nbformat_minor": 0
}