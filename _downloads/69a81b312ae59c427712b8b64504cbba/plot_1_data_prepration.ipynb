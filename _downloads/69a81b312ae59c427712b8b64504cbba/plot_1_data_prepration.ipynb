{
  "cells": [
    {
      "cell_type": "code",
      "execution_count": null,
      "metadata": {
        "collapsed": false
      },
      "outputs": [],
      "source": [
        "%matplotlib inline"
      ]
    },
    {
      "cell_type": "markdown",
      "metadata": {},
      "source": [
        "\n============================\n1. Preparing input datasets\n============================\nThis tutorial will demonstrate how to setup a dataset for using with LoopStructural.\n\n\n"
      ]
    },
    {
      "cell_type": "markdown",
      "metadata": {},
      "source": [
        "Overview of data types\n~~~~~~~~~~~~~~~~~~~~~~~~~~~~~~~~~~~~~~~~~~~~~~~~~~\nLoopStructural uses two main types of input data\n1. Orientation data\n2. Value data\n\nOrientation data constrains the gradient of the interpolated scalar field either by controlling\nthe components of the normal vector to the scalar field or by adding a constraint which enforces that\nthe dot product between the gradient and the interpolated scalar field is 0. Value constraints control the value\nof the scalar field and could be thought of as the distance away from a reference horizon.\n\n\n"
      ]
    }
  ],
  "metadata": {
    "kernelspec": {
      "display_name": "Python 3",
      "language": "python",
      "name": "python3"
    },
    "language_info": {
      "codemirror_mode": {
        "name": "ipython",
        "version": 3
      },
      "file_extension": ".py",
      "mimetype": "text/x-python",
      "name": "python",
      "nbconvert_exporter": "python",
      "pygments_lexer": "ipython3",
      "version": "3.6.6"
    }
  },
  "nbformat": 4,
  "nbformat_minor": 0
}