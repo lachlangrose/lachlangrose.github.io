{
  "cells": [
    {
      "cell_type": "code",
      "execution_count": null,
      "metadata": {
        "collapsed": false
      },
      "outputs": [],
      "source": [
        "%matplotlib inline"
      ]
    },
    {
      "cell_type": "markdown",
      "metadata": {},
      "source": [
        "\n3. Multiple groups\n===================\nCreating a model with multiple geological features, dealing with unconformities.\n\n\n"
      ]
    },
    {
      "cell_type": "code",
      "execution_count": null,
      "metadata": {
        "collapsed": false
      },
      "outputs": [],
      "source": [
        "from LoopStructural import GeologicalModel\nfrom LoopStructural.datasets import load_claudius\nfrom LoopStructural.visualisation import LavaVuModelViewer\n\nimport pandas as pd\nimport numpy as np\n\ndata, bb = load_claudius()\ndata = data.reset_index()\n\ndata.loc[:,'val']*=-1\ndata.loc[:,['nx','ny','nz']]*=-1\n\ndata.loc[792,'type'] = 'strati2'\ndata.loc[792,['nx','ny','nz']] = [0,0,1]\ndata.loc[792,'val'] = 0\n\nmodel = GeologicalModel(bb[0,:],bb[1,:])\nmodel.set_model_data(data)\n\nstrati2 = model.create_and_add_foliation('strati2',\n                              interpolatortype='PLI',\n                               nelements=1e4,\n                               solver='pyamg'\n                              )\nuc = model.add_unconformity(strati2['feature'],1)\n\nstrati = model.create_and_add_foliation('strati',\n                              interpolatortype='PLI',\n                               nelements=1e4,\n                               solver='pyamg'\n                              )\n\nviewer = LavaVuModelViewer(model)\nviewer.add_isosurface(strati2['feature'],\n#                       nslices=5\n                      slices=[2,1.5,1],\n                     )\nviewer.add_isosurface(strati['feature'],\n                      slices=[0,-60,-250,-330],\n                     paint_with=strati['feature'])\nviewer.rotate([-85.18760681152344, 42.93233871459961, 0.8641873002052307])\nviewer.display()"
      ]
    }
  ],
  "metadata": {
    "kernelspec": {
      "display_name": "Python 3",
      "language": "python",
      "name": "python3"
    },
    "language_info": {
      "codemirror_mode": {
        "name": "ipython",
        "version": 3
      },
      "file_extension": ".py",
      "mimetype": "text/x-python",
      "name": "python",
      "nbconvert_exporter": "python",
      "pygments_lexer": "ipython3",
      "version": "3.6.6"
    }
  },
  "nbformat": 4,
  "nbformat_minor": 0
}