{
  "cells": [
    {
      "cell_type": "code",
      "execution_count": null,
      "metadata": {
        "collapsed": false
      },
      "outputs": [],
      "source": [
        "%matplotlib inline"
      ]
    },
    {
      "cell_type": "markdown",
      "metadata": {},
      "source": [
        "\nFaulted folds\n===============\n\n\n"
      ]
    },
    {
      "cell_type": "markdown",
      "metadata": {},
      "source": [
        "Faulted refolded folds\n======================\n\n\n"
      ]
    },
    {
      "cell_type": "markdown",
      "metadata": {},
      "source": [
        "Imports\n~~~~~~~\n\n\n"
      ]
    },
    {
      "cell_type": "code",
      "execution_count": null,
      "metadata": {
        "collapsed": false
      },
      "outputs": [],
      "source": [
        "import sys, os, subprocess\nimport matplotlib.pyplot as plt\n# adjust some settings for matplotlib\nfrom matplotlib import rcParams\nimport numpy as np\nimport scipy\nimport scipy.fftpack\nfrom LoopStructural.visualisation import LavaVuModelViewer\nfrom LoopStructural.utils.helper import strike_dip_vector\nfrom LoopStructural import GeologicalModel\nimport LoopStructural\nimport pandas as pd\n# print rcParams\nrcParams['font.size'] = 15\n# determine path of repository to set paths corretly below\nrepo_path = os.path.realpath('../..')\nsys.path.append(repo_path)\nimport pynoddy.history\nimport logging\nlogging.getLogger().setLevel(logging.INFO)"
      ]
    },
    {
      "cell_type": "markdown",
      "metadata": {},
      "source": [
        "Load data and define model box\n~~~~~~~~~~~~~~~~~~~~~~~~~~~~~~\n\n\n"
      ]
    },
    {
      "cell_type": "code",
      "execution_count": null,
      "metadata": {
        "collapsed": false
      },
      "outputs": [],
      "source": [
        "df2 = pd.read_csv('faulted_type1.csv')\nbb = np.zeros((2,3))\nbb[1,:] =(10000.0, 7000.0, 5000.0)"
      ]
    },
    {
      "cell_type": "markdown",
      "metadata": {},
      "source": [
        "View the data\n~~~~~~~~~~~~~\n\nHave a look at the contents of the data frame, we can see there are a\nnumber of columns e.g strike, dip, value, coord, type etc. These are\nused by LoopStructural to constrain the interpolator. The column type\ncontains our identifier for which scalar field the data points are\nconstraining e.g.\u00a0the fault, s1 or s0.\n\n\n"
      ]
    },
    {
      "cell_type": "code",
      "execution_count": null,
      "metadata": {
        "collapsed": false
      },
      "outputs": [],
      "source": [
        "df2\n\ndf2.type.unique()"
      ]
    },
    {
      "cell_type": "markdown",
      "metadata": {},
      "source": [
        "Setting up the model\n~~~~~~~~~~~~~~~~~~~~\n\nBelow we can set up the model, first we need to know which order these\ngeological features occured. In this example the fault is the most\nrecent feature, and then the s1 foliation and then the primary foliation\n(s0).\n\nTherefore to create the model we add these features in the reverse\norder: 1. Fault 2. s1 3. s0\n\n\n"
      ]
    },
    {
      "cell_type": "markdown",
      "metadata": {},
      "source": [
        "Creating the fault frame\n~~~~~~~~~~~~~~~~~~~~~~~~\n\n\n"
      ]
    },
    {
      "cell_type": "code",
      "execution_count": null,
      "metadata": {
        "collapsed": false
      },
      "outputs": [],
      "source": [
        "model = GeologicalModel(bb[0,:],bb[1,:])\nmodel.set_model_data(df2)\nmodel.data\n\nfault = model.create_and_add_fault('fault',\n                                   -500,\n                                   nelements=2e4,\n                                   interpolatottype='PLI',\n                                   buffer=0.7,\n                                   solver='lu',\n                                   damp=True\n                                  )\nviewer = LavaVuModelViewer(model)\nviewer.add_isosurface(fault['feature'][0],\n                     isovalue=0\n                     )\nviewer.add_vector_field(fault['feature'][1],locations=model.regular_grid()[::50])\nviewer.interactive()"
      ]
    },
    {
      "cell_type": "markdown",
      "metadata": {},
      "source": [
        "Creating the fold frame\n~~~~~~~~~~~~~~~~~~~~~~~\n\n\n"
      ]
    },
    {
      "cell_type": "code",
      "execution_count": null,
      "metadata": {
        "collapsed": false
      },
      "outputs": [],
      "source": [
        "fold_frame = model.create_and_add_fold_frame('s1',\n                                nelements=1e4,\n                                            regularisation=[1.,1.,.1],\n                                            interpolatortype='PLI',\n#                                             gxxgy=0.,\n                                            solver='lu',\n                                            damp=True,\n                                            buffer=0.7)\n\nviewer = LavaVuModelViewer(model)\nviewer.add_isosurface(fault['feature'][0],\n                     isovalue=0)\nviewer.add_isosurface(fold_frame['feature'][0],\n                     isovalue=0)\nviewer.interactive()"
      ]
    },
    {
      "cell_type": "markdown",
      "metadata": {},
      "source": [
        "Interpolating bedding\n~~~~~~~~~~~~~~~~~~~~~\n\n\n"
      ]
    },
    {
      "cell_type": "code",
      "execution_count": null,
      "metadata": {
        "collapsed": false
      },
      "outputs": [],
      "source": [
        "s0 = model.create_and_add_folded_foliation('s0',\n                                           fold_frame=fold_frame['feature'],\n                                      nelements=1e4,\n                                          solver='lu',\n                                          buffer=0.5,\n                                          damp=True)\nviewer = LavaVuModelViewer(model)\n\nviewer.add_vector_field(fold_frame['feature'][1],\n                       locations=s0['feature'].builder.interpolator.get_gradient_constraints()[:,:3]\n                       )\n\n\nviewer.add_isosurface(fold_frame['feature'][1],\n                     isovalue=0)\n\nviewer.add_data(fold_frame['feature'][1])\n\nviewer.add_scalar_field(s0['feature'],cmap='tab20')\n\nviewer.add_isosurface(s0['feature'])\nviewer.add_data(s0['feature'])\nviewer.interactive()\n\nviewer.lv.image('images\\example5.png')"
      ]
    },
    {
      "cell_type": "markdown",
      "metadata": {},
      "source": [
        "Fold axis rotation angle\n~~~~~~~~~~~~~~~~~~~~~~~~\n\n\n"
      ]
    },
    {
      "cell_type": "code",
      "execution_count": null,
      "metadata": {
        "collapsed": false
      },
      "outputs": [],
      "source": [
        "fig, ax = plt.subplots(1,2,figsize=(10,5),)\nx = np.linspace(fold_frame['feature'][1].min(),fold_frame['feature'][1].max(),100)\nax[0].plot(s0['axis_direction'],s0['axis_rotation'],'bo')\nax[0].plot(x, s0['fold'].fold_axis_rotation(x),'b-')\nax[0].set_ylabel('Fold axis rotation angle')\nax[0].set_xlabel('Fold frame coordinate 1 value')\n\n\nax[1].plot(s0['axis_svariogram'].lags,s0['axis_svariogram'].variogram,'ko')\nax[1].set_ylabel('Fold axis variogram')\nax[1].set_xlabel('S-Variogram lags')\n\n\nax[0].set_ylim(-90,90)"
      ]
    },
    {
      "cell_type": "markdown",
      "metadata": {},
      "source": [
        "Fold limb rotation angle\n~~~~~~~~~~~~~~~~~~~~~~~~\n\n\n"
      ]
    },
    {
      "cell_type": "code",
      "execution_count": null,
      "metadata": {
        "collapsed": false
      },
      "outputs": [],
      "source": [
        "fig, ax = plt.subplots(1,2,figsize=(10,5),)\nx = np.linspace(fold_frame['feature'][1].min(),fold_frame['feature'][1].max(),100)\nax[0].plot(s0['foliation'],s0['limb_rotation'],'bo')\nax[0].plot(x, s0['fold'].fold_limb_rotation(x),'b-')\nax[0].set_ylabel('Fold axis rotation angle')\nax[0].set_xlabel('Fold frame coordinate 1 value')\n\n\nax[1].plot(s0['limb_svariogram'].lags,s0['limb_svariogram'].variogram,'ko')\nax[1].set_ylabel('Fold axis variogram')\nax[1].set_xlabel('S-Variogram lags')\n\n\nax[0].set_ylim(-90,90)\n\n\nfrom LoopStructural.visualisation import MapView\nmapview = MapView(model)\nmapview.nsteps = np.array([40,40])\nmapview.add_data(s0['feature'],scale=0.02)\nmapview.add_scalar_field(s0['feature'],cmap='tab20')\nmapview.add_contour(s0['feature'],4)\nmapview.add_contour(fault['feature'][0],[0])\nplt.xlim(model.bounding_box[0,0],model.bounding_box[1,0])\nplt.ylim(model.bounding_box[0,1],model.bounding_box[1,1])"
      ]
    }
  ],
  "metadata": {
    "kernelspec": {
      "display_name": "Python 3",
      "language": "python",
      "name": "python3"
    },
    "language_info": {
      "codemirror_mode": {
        "name": "ipython",
        "version": 3
      },
      "file_extension": ".py",
      "mimetype": "text/x-python",
      "name": "python",
      "nbconvert_exporter": "python",
      "pygments_lexer": "ipython3",
      "version": "3.6.6"
    }
  },
  "nbformat": 4,
  "nbformat_minor": 0
}