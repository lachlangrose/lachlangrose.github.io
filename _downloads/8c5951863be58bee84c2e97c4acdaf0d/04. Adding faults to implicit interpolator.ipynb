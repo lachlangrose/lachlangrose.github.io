{
  "cells": [
    {
      "cell_type": "code",
      "execution_count": null,
      "metadata": {
        "collapsed": false
      },
      "outputs": [],
      "source": [
        "%matplotlib inline"
      ]
    },
    {
      "cell_type": "markdown",
      "metadata": {},
      "source": [
        "\nSyntaxError\n===========\n\nExample script with invalid Python syntax\n\n"
      ]
    },
    {
      "cell_type": "code",
      "execution_count": null,
      "metadata": {
        "collapsed": false
      },
      "outputs": [],
      "source": [
        "\"\"\"\nModelling faults using structural frames\n========================================\n\n\"\"\"\n\nfrom LoopStructural import GeologicalModel\nfrom LoopStructural.visualisation import LavaVuModelViewer\nfrom LoopStructural.datasets import load_intrusion\nimport pandas as pd \nimport numpy as np\nimport matplotlib.pyplot as plt\n# %matplotlib inline\n\nfrom __future__ import print_function\nfrom ipywidgets import interact, interactive, fixed, interact_manual\nimport ipywidgets as widgets\n\ndata, bb = load_intrusion()"
      ]
    },
    {
      "cell_type": "markdown",
      "metadata": {},
      "source": [
        "Modelling faults using structural frames\n~~~~~~~~~~~~~~~~~~~~~~~~~~~~~~~~~~~~~~~~\n\nStandard implicit modelling techniques either treat faults as domain\nboundaries or use a step function in the implicit function to capture\nthe displacement in the faulted surface.\n\nAdding faults into the implicit function using step functions is limited\nbecause this does not capture the kinematics of the fault. It\neffectively defines the fault displacement by adding a value to the\nscalar field on the hanging wall of the fault. In the example below a\n2-D ellipsoidal function is combined with a step function to show how\nthe resulting geometry results in a shrinking shape. This would be\nrepresentative of modelling an intrusion.\n\n\n"
      ]
    },
    {
      "cell_type": "code",
      "execution_count": null,
      "metadata": {
        "collapsed": false
      },
      "outputs": [],
      "source": [
        "intrusion = lambda x,y: (x*2)**2+(y**2)\nx = np.linspace(-10,10,100)\ny = np.linspace(-10,10,100)\nxx, yy = np.meshgrid(x,y)\nfault = np.zeros(xx.shape)\nfault[yy>0] = 50\nval = intrusion(xx,yy)+fault\n\n\nplt.contourf(val)"
      ]
    },
    {
      "cell_type": "markdown",
      "metadata": {},
      "source": [
        "LoopStructural applies structural frames to the fault geometry to\ncapture the geometry and kinematics of the fault. A fault frame\nconsisting of the fault surface, fault slip direction and fault extent\nare built from observations. The geometry of the deformed surface is\nthen interpolated by first restoring the observations by combining the\nfault frame and an expected displacement model.\n\n\n"
      ]
    },
    {
      "cell_type": "code",
      "execution_count": null,
      "metadata": {
        "collapsed": false
      },
      "outputs": [],
      "source": [
        "model = GeologicalModel(bb[0,:],bb[1,:])\nmodel.set_model_data(data)\nfault = model.create_and_add_fault('fault',\n                                   500,\n                                   nelements=10000,\n                                   steps=4,\n                                   interpolatortype='PLI',\n                                  buffer=0.3)\n\nviewer = LavaVuModelViewer(model)\nviewer.add_isosurface(fault['feature'],\n                     voxet=model.voxet(),\n                      isovalue=0\n#                       slices=[0,1]#nslices=10\n                     )\nxyz = model.data[model.data['type']=='strati'][['X','Y','Z']].to_numpy()\nxyz = xyz[fault['feature'].evaluate(xyz),:]\nviewer.add_vector_field(fault['feature'], locations= xyz)\nviewer.add_points(model.data[model.data['type']=='strati'][['X','Y','Z']],name='prefault')\nviewer.interactive()"
      ]
    },
    {
      "cell_type": "markdown",
      "metadata": {},
      "source": [
        "Use the slider to determine the appropriate displacement to \u201cunfault\u201d\nthe points\n\n\n"
      ]
    },
    {
      "cell_type": "code",
      "execution_count": null,
      "metadata": {
        "collapsed": false
      },
      "outputs": [],
      "source": [
        "@interact_manual(displacement=(-1000,1000,100))\ndef run(displacement):\n    model = GeologicalModel(bb[0,:],bb[1,:])\n    model.set_model_data(data)\n    fault = model.create_and_add_fault('fault',\n                                       displacement,\n                                       nelements=2000,\n                                       steps=4,\n                                       interpolatortype='PLI',\n                                      buffer=0.3)\n    viewer = LavaVuModelViewer(model)\n    viewer.add_isosurface(fault['feature'],\n                          isovalue=0\n    #                       slices=[0,1]#nslices=10\n                         )\n    xyz = model.data[model.data['type']=='strati'][['X','Y','Z']].to_numpy()\n    xyz = fault['feature'].apply_to_points(xyz)\n    viewer.add_points(xyz,name='faulted')\n    viewer.interactive()"
      ]
    },
    {
      "cell_type": "markdown",
      "metadata": {},
      "source": [
        "Add the displacement to the variable below\n\n\n"
      ]
    },
    {
      "cell_type": "code",
      "execution_count": null,
      "metadata": {
        "collapsed": false
      },
      "outputs": [],
      "source": [
        "displacement = #INSERT YOUR DISPLACEMENT NUMBER HERE BEFORE #\n\nmodel = GeologicalModel(bb[0,:],bb[1,:])\nmodel.set_model_data(data)\nfault = model.create_and_add_fault('fault',\n                                   displacement,\n                                   nelements=2000,\n                                   steps=4,\n                                   interpolatortype='PLI',\n                                  buffer=0.3)\nstrati = model.create_and_add_foliation('strati',nelements=30000,interpolatortype='PLI',cgw=0.03)\n\nviewer = LavaVuModelViewer(model)\nviewer.add_isosurface(strati['feature'],\n                     voxet=model.voxet(),\n                     isovalue=0)\n# viewer.add_data(model.features[0][0])\nviewer.add_data(strati['feature'])\nviewer.add_isosurface(fault['feature'],isovalue=0\n#                       slices=[0,1]#nslices=10\n                     )\nviewer.add_points(model.data[model.data['type']=='strati'][['X','Y','Z']],name='prefault')\nviewer.interactive()"
      ]
    }
  ],
  "metadata": {
    "kernelspec": {
      "display_name": "Python 3",
      "language": "python",
      "name": "python3"
    },
    "language_info": {
      "codemirror_mode": {
        "name": "ipython",
        "version": 3
      },
      "file_extension": ".py",
      "mimetype": "text/x-python",
      "name": "python",
      "nbconvert_exporter": "python",
      "pygments_lexer": "ipython3",
      "version": "3.6.6"
    }
  },
  "nbformat": 4,
  "nbformat_minor": 0
}